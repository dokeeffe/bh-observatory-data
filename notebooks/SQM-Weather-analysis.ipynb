{
 "cells": [
  {
   "cell_type": "code",
   "execution_count": 1,
   "metadata": {},
   "outputs": [],
   "source": [
    "import sqlite3\n",
    "import pandas as pd\n",
    "import seaborn as sns\n",
    "import glob"
   ]
  },
  {
   "cell_type": "code",
   "execution_count": 2,
   "metadata": {},
   "outputs": [],
   "source": [
    "df = pd.read_csv('../datasets/weather_station/weather.csv.zip')"
   ]
  },
  {
   "cell_type": "code",
   "execution_count": 3,
   "metadata": {},
   "outputs": [
    {
     "data": {
      "text/html": [
       "<div>\n",
       "<style scoped>\n",
       "    .dataframe tbody tr th:only-of-type {\n",
       "        vertical-align: middle;\n",
       "    }\n",
       "\n",
       "    .dataframe tbody tr th {\n",
       "        vertical-align: top;\n",
       "    }\n",
       "\n",
       "    .dataframe thead th {\n",
       "        text-align: right;\n",
       "    }\n",
       "</style>\n",
       "<table border=\"1\" class=\"dataframe\">\n",
       "  <thead>\n",
       "    <tr style=\"text-align: right;\">\n",
       "      <th></th>\n",
       "      <th>date_sensor_read</th>\n",
       "      <th>rain</th>\n",
       "      <th>sky_temperature</th>\n",
       "      <th>ambient_temperature</th>\n",
       "    </tr>\n",
       "  </thead>\n",
       "  <tbody>\n",
       "    <tr>\n",
       "      <th>0</th>\n",
       "      <td>2019-04-08 00:00:11</td>\n",
       "      <td>False</td>\n",
       "      <td>-3.23</td>\n",
       "      <td>8.31</td>\n",
       "    </tr>\n",
       "    <tr>\n",
       "      <th>1</th>\n",
       "      <td>2019-04-08 00:01:12</td>\n",
       "      <td>False</td>\n",
       "      <td>-4.01</td>\n",
       "      <td>8.33</td>\n",
       "    </tr>\n",
       "    <tr>\n",
       "      <th>2</th>\n",
       "      <td>2019-04-08 00:02:13</td>\n",
       "      <td>False</td>\n",
       "      <td>-3.91</td>\n",
       "      <td>8.37</td>\n",
       "    </tr>\n",
       "    <tr>\n",
       "      <th>3</th>\n",
       "      <td>2019-04-08 00:03:00</td>\n",
       "      <td>False</td>\n",
       "      <td>-2.87</td>\n",
       "      <td>8.43</td>\n",
       "    </tr>\n",
       "    <tr>\n",
       "      <th>4</th>\n",
       "      <td>2019-04-08 00:03:26</td>\n",
       "      <td>False</td>\n",
       "      <td>-1.79</td>\n",
       "      <td>8.39</td>\n",
       "    </tr>\n",
       "    <tr>\n",
       "      <th>...</th>\n",
       "      <td>...</td>\n",
       "      <td>...</td>\n",
       "      <td>...</td>\n",
       "      <td>...</td>\n",
       "    </tr>\n",
       "    <tr>\n",
       "      <th>829732</th>\n",
       "      <td>2020-04-05 17:21:27</td>\n",
       "      <td>True</td>\n",
       "      <td>10.57</td>\n",
       "      <td>12.01</td>\n",
       "    </tr>\n",
       "    <tr>\n",
       "      <th>829733</th>\n",
       "      <td>2020-04-05 17:22:28</td>\n",
       "      <td>True</td>\n",
       "      <td>10.95</td>\n",
       "      <td>12.01</td>\n",
       "    </tr>\n",
       "    <tr>\n",
       "      <th>829734</th>\n",
       "      <td>2020-04-05 17:22:47</td>\n",
       "      <td>True</td>\n",
       "      <td>9.67</td>\n",
       "      <td>11.97</td>\n",
       "    </tr>\n",
       "    <tr>\n",
       "      <th>829735</th>\n",
       "      <td>2020-04-05 17:23:44</td>\n",
       "      <td>True</td>\n",
       "      <td>10.75</td>\n",
       "      <td>12.07</td>\n",
       "    </tr>\n",
       "    <tr>\n",
       "      <th>829736</th>\n",
       "      <td>2020-04-05 17:24:13</td>\n",
       "      <td>True</td>\n",
       "      <td>9.47</td>\n",
       "      <td>12.03</td>\n",
       "    </tr>\n",
       "  </tbody>\n",
       "</table>\n",
       "<p>829737 rows × 4 columns</p>\n",
       "</div>"
      ],
      "text/plain": [
       "           date_sensor_read   rain  sky_temperature  ambient_temperature\n",
       "0       2019-04-08 00:00:11  False            -3.23                 8.31\n",
       "1       2019-04-08 00:01:12  False            -4.01                 8.33\n",
       "2       2019-04-08 00:02:13  False            -3.91                 8.37\n",
       "3       2019-04-08 00:03:00  False            -2.87                 8.43\n",
       "4       2019-04-08 00:03:26  False            -1.79                 8.39\n",
       "...                     ...    ...              ...                  ...\n",
       "829732  2020-04-05 17:21:27   True            10.57                12.01\n",
       "829733  2020-04-05 17:22:28   True            10.95                12.01\n",
       "829734  2020-04-05 17:22:47   True             9.67                11.97\n",
       "829735  2020-04-05 17:23:44   True            10.75                12.07\n",
       "829736  2020-04-05 17:24:13   True             9.47                12.03\n",
       "\n",
       "[829737 rows x 4 columns]"
      ]
     },
     "execution_count": 3,
     "metadata": {},
     "output_type": "execute_result"
    }
   ],
   "source": [
    "df"
   ]
  },
  {
   "cell_type": "code",
   "execution_count": 4,
   "metadata": {},
   "outputs": [],
   "source": [
    "files = [f for f in glob.glob(\"../datasets/sky_quality_meter/SQM_DL/*.dat\", recursive=True)]\n",
    "\n",
    "shards=[]\n",
    "for f in files:\n",
    "    df = pd.read_csv(f, comment='#', delimiter=';', names=['UTCDateTime', 'LocalDateTime', 'Temperature', 'Voltage', 'MSAS', 'Recordtype'], parse_dates=['UTCDateTime', 'LocalDateTime'])\n",
    "    shards.append(df)\n",
    "    \n",
    "sqm_data = pd.concat(shards)"
   ]
  },
  {
   "cell_type": "code",
   "execution_count": 5,
   "metadata": {},
   "outputs": [
    {
     "data": {
      "text/html": [
       "<div>\n",
       "<style scoped>\n",
       "    .dataframe tbody tr th:only-of-type {\n",
       "        vertical-align: middle;\n",
       "    }\n",
       "\n",
       "    .dataframe tbody tr th {\n",
       "        vertical-align: top;\n",
       "    }\n",
       "\n",
       "    .dataframe thead th {\n",
       "        text-align: right;\n",
       "    }\n",
       "</style>\n",
       "<table border=\"1\" class=\"dataframe\">\n",
       "  <thead>\n",
       "    <tr style=\"text-align: right;\">\n",
       "      <th></th>\n",
       "      <th>UTCDateTime</th>\n",
       "      <th>LocalDateTime</th>\n",
       "      <th>Temperature</th>\n",
       "      <th>Voltage</th>\n",
       "      <th>MSAS</th>\n",
       "      <th>Recordtype</th>\n",
       "    </tr>\n",
       "  </thead>\n",
       "  <tbody>\n",
       "    <tr>\n",
       "      <th>0</th>\n",
       "      <td>2019-05-26 21:00:05</td>\n",
       "      <td>2019-05-26 22:00:05</td>\n",
       "      <td>9.9</td>\n",
       "      <td>5.0</td>\n",
       "      <td>10.01</td>\n",
       "      <td>1</td>\n",
       "    </tr>\n",
       "    <tr>\n",
       "      <th>1</th>\n",
       "      <td>2019-05-26 21:05:05</td>\n",
       "      <td>2019-05-26 22:05:05</td>\n",
       "      <td>9.9</td>\n",
       "      <td>5.0</td>\n",
       "      <td>10.74</td>\n",
       "      <td>1</td>\n",
       "    </tr>\n",
       "    <tr>\n",
       "      <th>2</th>\n",
       "      <td>2019-05-26 21:10:05</td>\n",
       "      <td>2019-05-26 22:10:05</td>\n",
       "      <td>9.6</td>\n",
       "      <td>5.0</td>\n",
       "      <td>11.39</td>\n",
       "      <td>1</td>\n",
       "    </tr>\n",
       "    <tr>\n",
       "      <th>3</th>\n",
       "      <td>2019-05-26 21:15:05</td>\n",
       "      <td>2019-05-26 22:15:05</td>\n",
       "      <td>9.6</td>\n",
       "      <td>5.0</td>\n",
       "      <td>12.07</td>\n",
       "      <td>1</td>\n",
       "    </tr>\n",
       "    <tr>\n",
       "      <th>4</th>\n",
       "      <td>2019-05-26 21:20:05</td>\n",
       "      <td>2019-05-26 22:20:05</td>\n",
       "      <td>9.3</td>\n",
       "      <td>5.0</td>\n",
       "      <td>12.76</td>\n",
       "      <td>1</td>\n",
       "    </tr>\n",
       "    <tr>\n",
       "      <th>...</th>\n",
       "      <td>...</td>\n",
       "      <td>...</td>\n",
       "      <td>...</td>\n",
       "      <td>...</td>\n",
       "      <td>...</td>\n",
       "      <td>...</td>\n",
       "    </tr>\n",
       "    <tr>\n",
       "      <th>104</th>\n",
       "      <td>2019-04-22 04:40:05</td>\n",
       "      <td>2019-04-22 05:40:05</td>\n",
       "      <td>4.8</td>\n",
       "      <td>5.0</td>\n",
       "      <td>13.89</td>\n",
       "      <td>1</td>\n",
       "    </tr>\n",
       "    <tr>\n",
       "      <th>105</th>\n",
       "      <td>2019-04-22 04:45:05</td>\n",
       "      <td>2019-04-22 05:45:05</td>\n",
       "      <td>4.8</td>\n",
       "      <td>5.0</td>\n",
       "      <td>12.99</td>\n",
       "      <td>1</td>\n",
       "    </tr>\n",
       "    <tr>\n",
       "      <th>106</th>\n",
       "      <td>2019-04-22 04:50:05</td>\n",
       "      <td>2019-04-22 05:50:05</td>\n",
       "      <td>4.8</td>\n",
       "      <td>5.0</td>\n",
       "      <td>12.11</td>\n",
       "      <td>1</td>\n",
       "    </tr>\n",
       "    <tr>\n",
       "      <th>107</th>\n",
       "      <td>2019-04-22 04:55:05</td>\n",
       "      <td>2019-04-22 05:55:05</td>\n",
       "      <td>4.5</td>\n",
       "      <td>5.0</td>\n",
       "      <td>11.24</td>\n",
       "      <td>1</td>\n",
       "    </tr>\n",
       "    <tr>\n",
       "      <th>108</th>\n",
       "      <td>2019-04-22 05:00:05</td>\n",
       "      <td>2019-04-22 06:00:05</td>\n",
       "      <td>4.5</td>\n",
       "      <td>5.0</td>\n",
       "      <td>10.39</td>\n",
       "      <td>1</td>\n",
       "    </tr>\n",
       "  </tbody>\n",
       "</table>\n",
       "<p>4026 rows × 6 columns</p>\n",
       "</div>"
      ],
      "text/plain": [
       "            UTCDateTime       LocalDateTime  Temperature  Voltage   MSAS  \\\n",
       "0   2019-05-26 21:00:05 2019-05-26 22:00:05          9.9      5.0  10.01   \n",
       "1   2019-05-26 21:05:05 2019-05-26 22:05:05          9.9      5.0  10.74   \n",
       "2   2019-05-26 21:10:05 2019-05-26 22:10:05          9.6      5.0  11.39   \n",
       "3   2019-05-26 21:15:05 2019-05-26 22:15:05          9.6      5.0  12.07   \n",
       "4   2019-05-26 21:20:05 2019-05-26 22:20:05          9.3      5.0  12.76   \n",
       "..                  ...                 ...          ...      ...    ...   \n",
       "104 2019-04-22 04:40:05 2019-04-22 05:40:05          4.8      5.0  13.89   \n",
       "105 2019-04-22 04:45:05 2019-04-22 05:45:05          4.8      5.0  12.99   \n",
       "106 2019-04-22 04:50:05 2019-04-22 05:50:05          4.8      5.0  12.11   \n",
       "107 2019-04-22 04:55:05 2019-04-22 05:55:05          4.5      5.0  11.24   \n",
       "108 2019-04-22 05:00:05 2019-04-22 06:00:05          4.5      5.0  10.39   \n",
       "\n",
       "     Recordtype  \n",
       "0             1  \n",
       "1             1  \n",
       "2             1  \n",
       "3             1  \n",
       "4             1  \n",
       "..          ...  \n",
       "104           1  \n",
       "105           1  \n",
       "106           1  \n",
       "107           1  \n",
       "108           1  \n",
       "\n",
       "[4026 rows x 6 columns]"
      ]
     },
     "execution_count": 5,
     "metadata": {},
     "output_type": "execute_result"
    }
   ],
   "source": [
    "sqm_data"
   ]
  },
  {
   "cell_type": "code",
   "execution_count": 6,
   "metadata": {},
   "outputs": [
    {
     "data": {
      "text/plain": [
       "<matplotlib.axes._subplots.AxesSubplot at 0x7f10b1699668>"
      ]
     },
     "execution_count": 6,
     "metadata": {},
     "output_type": "execute_result"
    },
    {
     "data": {
      "image/png": "[encoded data removed]",
      "text/plain": [
       "<Figure size 432x288 with 1 Axes>"
      ]
     },
     "metadata": {
      "needs_background": "light"
     },
     "output_type": "display_data"
    }
   ],
   "source": [
    "sns.lineplot(x=\"UTCDateTime\", y=\"MSAS\",\n",
    "             data=sqm_data)"
   ]
  },
  {
   "cell_type": "code",
   "execution_count": 7,
   "metadata": {},
   "outputs": [],
   "source": [
    "from astropy.utils import iers\n",
    "iers.IERS_A_URL = 'ftp://cddis.gsfc.nasa.gov/pub/products/iers/finals2000A.all'\n",
    "from astroplan import download_IERS_A\n",
    "download_IERS_A()"
   ]
  },
  {
   "cell_type": "code",
   "execution_count": 8,
   "metadata": {},
   "outputs": [],
   "source": [
    "\n",
    "import multiprocessing as mp\n",
    "from astropy.coordinates import EarthLocation\n",
    "from astroplan import Observer\n",
    "import astropy.units as u\n",
    "\n",
    "def sunalt(datetime):\n",
    "    lat=52.2533\n",
    "    lon=-8.3605\n",
    "    elev=80\n",
    "    location = EarthLocation.from_geodetic(lon*u.deg, lat*u.deg, elev*u.m)\n",
    "    observer = Observer(location=location)\n",
    "    return observer.sun_altaz(datetime).alt.deg\n",
    "\n",
    "def moonalt(datetime):\n",
    "    lat=52.2533\n",
    "    lon=-8.3605\n",
    "    elev=80\n",
    "    location = EarthLocation.from_geodetic(lon*u.deg, lat*u.deg, elev*u.m)\n",
    "    observer = Observer(location=location)\n",
    "    return observer.moon_altaz(datetime).alt.deg\n",
    "\n",
    "def moonill(datetime):\n",
    "    lat=52.2533\n",
    "    lon=-8.3605\n",
    "    elev=80\n",
    "    location = EarthLocation.from_geodetic(lon*u.deg, lat*u.deg, elev*u.m)\n",
    "    observer = Observer(location=location)\n",
    "    return observer.moon_illumination(datetime)\n",
    "\n",
    "\n",
    "pool = mp.Pool(mp.cpu_count())\n",
    "\n",
    "sqm_data['sun_alt'] = pool.map(sunalt, [dt for dt in sqm_data['UTCDateTime'].values])\n",
    "sqm_data['moon_alt'] = pool.map(moonalt, [dt for dt in sqm_data['UTCDateTime'].values])\n",
    "sqm_data['moon_illumination'] = pool.map(moonill, [dt for dt in sqm_data['UTCDateTime'].values])\n",
    "pool.close()\n",
    "# sqm_data['sun_alt'] = sunalt(sqm_data['UTCDateTime'])"
   ]
  },
  {
   "cell_type": "code",
   "execution_count": 14,
   "metadata": {},
   "outputs": [],
   "source": [
    "derek_dark = sqm_data[(sqm_data['sun_alt']<-18) & (sqm_data['moon_alt']<-12)]"
   ]
  },
  {
   "cell_type": "code",
   "execution_count": 16,
   "metadata": {},
   "outputs": [
    {
     "data": {
      "text/plain": [
       "<matplotlib.axes._subplots.AxesSubplot at 0x7fe48f6736d8>"
      ]
     },
     "execution_count": 16,
     "metadata": {},
     "output_type": "execute_result"
    },
    {
     "data": {
      "image/png": "[encoded data removed]",
      "text/plain": [
       "<Figure size 432x288 with 1 Axes>"
      ]
     },
     "metadata": {},
     "output_type": "display_data"
    }
   ],
   "source": [
    "sns.set(style=\"white\")\n",
    "sns.distplot(derek_dark['MSAS'], hist=False, rug=True, color=\"b\")"
   ]
  },
  {
   "cell_type": "code",
   "execution_count": null,
   "metadata": {},
   "outputs": [],
   "source": []
  }
 ],
 "metadata": {
  "kernelspec": {
   "display_name": "Python 3",
   "language": "python",
   "name": "python3"
  },
  "language_info": {
   "codemirror_mode": {
    "name": "ipython",
    "version": 3
   },
   "file_extension": ".py",
   "mimetype": "text/x-python",
   "name": "python",
   "nbconvert_exporter": "python",
   "pygments_lexer": "ipython3",
   "version": "3.6.9"
  }
 },
 "nbformat": 4,
 "nbformat_minor": 4
}
