{
 "cells": [
  {
   "cell_type": "code",
   "execution_count": null,
   "metadata": {
    "collapsed": false
   },
   "outputs": [
    {
     "name": "stderr",
     "output_type": "stream",
     "text": [
      "/home/dokeeffe/.local/lib/python3.5/site-packages/photutils/detection/findstars.py:421: RuntimeWarning: invalid value encountered in greater\n",
      "  object_labels, nobjects = ndimage.label(convolved_data > threshold,\n",
      "/home/dokeeffe/.local/lib/python3.5/site-packages/photutils/detection/core.py:241: RuntimeWarning: invalid value encountered in greater\n",
      "  peak_goodmask = np.logical_and(peak_goodmask, (data > threshold))\n"
     ]
    },
    {
     "data": {
      "text/plain": [
       "12.628664591856396"
      ]
     },
     "execution_count": 22,
     "metadata": {},
     "output_type": "execute_result"
    }
   ],
   "source": [
    "import requests, math, pickle, os\n",
    "import pandas as pd\n",
    "import numpy as np\n",
    "from photutils import DAOStarFinder\n",
    "from astropy.stats import mad_std\n",
    "from astropy.io import fits\n",
    "from astropy.coordinates import SkyCoord\n",
    "from astropy.wcs import WCS\n",
    "import astropy.units as u\n",
    "import matplotlib.pyplot as plt\n",
    "from photutils import aperture_photometry, CircularAperture\n",
    "%matplotlib inline\n",
    "plt.style.use('seaborn')\n",
    "\n",
    "def get_comp_stars(ra,dec,filter_band='V',field_of_view=18.5):\n",
    "    result = []\n",
    "    file_cache = ((ra+dec).replace(' ','').replace('.',''))+'.p'\n",
    "    if os.path.exists(file_cache):\n",
    "        result =  pickle.load(open(file_cache, 'rb'))\n",
    "    else:\n",
    "        vsp_template = 'https://www.aavso.org/apps/vsp/api/chart/?format=json&fov={}&maglimit=18.5&ra={}&dec={}'\n",
    "        r = requests.get(vsp_template.format(field_of_view, ra, dec))\n",
    "        print('Downloaded Comparison Star Chart ID {}'.format(r.json()['chartid']))\n",
    "        for star in r.json()['photometry']:\n",
    "            comparison = {}\n",
    "            comparison['auid'] = star['auid']\n",
    "            comparison['ra'] = star['ra']\n",
    "            comparison['dec'] = star['dec']\n",
    "            for band in star['bands']:\n",
    "                if band['band'] == filter_band:\n",
    "                    comparison['vmag'] = band['mag']\n",
    "                    comparison['error'] = band['error']\n",
    "            result.append(comparison)\n",
    "        pickle.dump( result, open( file_cache, 'wb' ) )\n",
    "    return result\n",
    "\n",
    "TARGET_RA = '08 10 56.65'\n",
    "TARGET_DEC = '28 08 33.2'\n",
    "# FITS_DATA_FILE = '/home/dokeeffe/Pictures/2017-02-15-22-28-11YZCnc_Light_003.fits'\n",
    "FITS_DATA_FILE = '/home/dokeeffe/Pictures/2017-02-15-22-24-28YZCnc_Light_002.fits'\n",
    "# FITS_DATA_FILE = '/home/dokeeffe/Pictures/2017-02-15-22-34-38YZCnc_Light_005.fits'\n",
    "\n",
    "FWHM =3.0\n",
    "SOURCE_SNR = 20\n",
    "APERTURE_RADIUS = 4.0\n",
    "comp_stars = get_comp_stars(TARGET_RA, TARGET_DEC)\n",
    "\n",
    "hdulist = fits.open(FITS_DATA_FILE)\n",
    "data = hdulist[0].data.astype(float)\n",
    "wcs = WCS(hdulist[0].header)\n",
    "bkg_sigma = mad_std(data)    \n",
    "daofind = DAOStarFinder(fwhm=FWHM, threshold=SOURCE_SNR*bkg_sigma)    \n",
    "sources = daofind(data)\n",
    "\n",
    "positions = (sources['xcentroid'], sources['ycentroid'])    \n",
    "apertures = CircularAperture(positions, r=APERTURE_RADIUS)    \n",
    "phot_table = aperture_photometry(data, apertures)    \n",
    "\n",
    "\n",
    "target = SkyCoord(TARGET_RA, TARGET_DEC, unit=(u.hourangle, u.deg))\n",
    "target_xy = SkyCoord.to_pixel(target, wcs=wcs, origin=1)\n",
    "target_xy\n",
    "\n",
    "comp_stars.append({'auid': 'target', 'ra': TARGET_RA, 'dec': TARGET_DEC})\n",
    "\n",
    "for comp_star in comp_stars:\n",
    "    comp_coord = SkyCoord(comp_star['ra'],comp_star['dec'], unit=(u.hourangle, u.deg))\n",
    "    xy = SkyCoord.to_pixel(comp_coord, wcs=wcs, origin=1)\n",
    "    x = xy[0].item(0)\n",
    "    y = xy[1].item(0)\n",
    "    for phot_measurement in phot_table:\n",
    "        if(phot_measurement['xcenter'].value-4 < x < phot_measurement['xcenter'].value+4) and phot_measurement['ycenter'].value-4 < y < phot_measurement['ycenter'].value+4:\n",
    "            comp_star['x'] = x\n",
    "            comp_star['y'] = y\n",
    "            comp_star['measured_flux'] = phot_measurement['aperture_sum']\n",
    "            if not math.isnan(phot_measurement['aperture_sum']):\n",
    "                comp_star['measured_instrumental_mag'] = -2.5 * math.log10(phot_measurement['aperture_sum'])\n",
    "    \n",
    "results = pd.DataFrame(comp_stars)\n",
    "\n",
    "to_plot = results.query('vmag > -9999 and measured_flux > 0')\n",
    "x = to_plot['measured_instrumental_mag'].values\n",
    "y = to_plot['vmag'].values\n",
    "fit = np.polyfit(x,y,1)\n",
    "fit_fn = np.poly1d(fit) \n",
    "# fit_fn is now a function which takes in x and returns an estimate for y\n",
    "# fig=plt.figure(figsize=(18, 16), dpi= 80, facecolor='w', edgecolor='k')\n",
    "# plt.plot(x,y, 'yo', x, fit_fn(x), '--k')\n",
    "# plt.plot(target_xy)\n",
    "# plt.xlim(np.min(x)-1, np.max(x)+1)\n",
    "# plt.ylim(np.min(y)-1, np.max(y)+1)\n",
    "\n",
    "target_instrumental_magnitude = results[results.auid=='target']['measured_instrumental_mag'].values[0]\n",
    "converted_magnitude = fit_fn(target_instrumental_magnitude)\n",
    "converted_magnitude"
   ]
  },
  {
   "cell_type": "code",
   "execution_count": null,
   "metadata": {
    "collapsed": true
   },
   "outputs": [],
   "source": [
    ""
   ]
  },
  {
   "cell_type": "code",
   "execution_count": null,
   "metadata": {
    "collapsed": true
   },
   "outputs": [],
   "source": [
    ""
   ]
  }
 ],
 "metadata": {
  "kernelspec": {
   "display_name": "Python 3",
   "language": "python",
   "name": "python3"
  },
  "language_info": {
   "codemirror_mode": {
    "name": "ipython",
    "version": 3.0
   },
   "file_extension": ".py",
   "mimetype": "text/x-python",
   "name": "python",
   "nbconvert_exporter": "python",
   "pygments_lexer": "ipython3",
   "version": "3.5.2+"
  }
 },
 "nbformat": 4,
 "nbformat_minor": 0
}